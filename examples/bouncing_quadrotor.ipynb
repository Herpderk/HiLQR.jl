{
 "cells": [
  {
   "cell_type": "code",
   "execution_count": null,
   "id": "2f185439",
   "metadata": {},
   "outputs": [],
   "source": [
    "using Pkg; Pkg.activate(joinpath(@__DIR__, \"..\"))\n",
    "using LinearAlgebra\n",
    "using HybridRobotDynamics\n",
    "using SiLQR"
   ]
  },
  {
   "cell_type": "code",
   "execution_count": null,
   "id": "365ddf6d",
   "metadata": {},
   "outputs": [],
   "source": [
    "\"\"\"\n",
    "Solver Setup\n",
    "\"\"\"\n",
    "\n",
    "# Define bouncing quadrotor model\n",
    "# Crazyflie 2.1 parameters: https://arxiv.org/pdf/1608.05786\n",
    "e = 1.0\n",
    "g = 9.81\n",
    "m = 0.027\n",
    "j = [1.436e-5, 1.395e-5,  2.173e-5]\n",
    "b = 7.9379e-12 / 3.1582e-10 * ones(4)\n",
    "c = 0.0283 * ones(4)\n",
    "d = 0.0283 * ones(4)\n",
    "system = bouncing_quadrotor(e, g, m, j, b, c, d)\n",
    "\n",
    "# Stage and terminal costs\n",
    "Q = 1e-4 * diagm([2e2*ones(3); 1e2*ones(4); ones(6)])\n",
    "R = 1e-4 * I(system.nu)\n",
    "Qf = 1e2 * Q\n",
    "stage(x, u) = x'*Q*x + u'*R*u\n",
    "terminal(x) = x'*Qf*x\n",
    "\n",
    "# RK4 integrator\n",
    "rk4 = ExplicitIntegrator(:rk4)\n",
    "\n",
    "# Problem parameters\n",
    "N = 100\n",
    "Δt = 0.01\n",
    "params = SiLQR.Parameters(system, stage, terminal, rk4, N, Δt)\n",
    "\n",
    "# Reference trajectory\n",
    "pref = [2.0, 1.0, 0.2]\n",
    "qref = [1.0; zeros(3)]\n",
    "xref = [pref; qref; zeros(6)]\n",
    "uref = zeros(system.nu)\n",
    "params.xrefs = [xref for k = 1:N]\n",
    "params.urefs = [uref for k = 1:(N-1)]\n",
    "\n",
    "# Initial conditions\n",
    "p0 = [0.0, 0.0, 1.0]\n",
    "q0 = qref #random_unit_quat()\n",
    "v0 = [0.0, 0.0, 0.0]\n",
    "ω0 = zeros(3)\n",
    "params.x0 = [p0; q0; v0; ω0]\n",
    "params.mI = :down\n",
    "\n",
    "nothing"
   ]
  },
  {
   "cell_type": "code",
   "execution_count": null,
   "id": "e1d5d79c",
   "metadata": {},
   "outputs": [],
   "source": [
    "\"\"\"\n",
    "Solve using SiLQR\n",
    "\"\"\"\n",
    "\n",
    "# Solve\n",
    "sol = SiLQR.Solution(params)\n",
    "cache = SiLQR.Cache(params)\n",
    "@time SiLQR.solve!(sol, cache, params; max_iter=20)\n",
    "\n",
    "# Visualize states\n",
    "xs = reduce(vcat, sol.xs)\n",
    "plot_2d_states(N, system.nx, (1,3), xs; xlim=(0,3), ylim=(0,3))\n",
    "\n",
    "nothing"
   ]
  }
 ],
 "metadata": {
  "kernelspec": {
   "display_name": "Julia 1.10.9",
   "language": "julia",
   "name": "julia-1.10"
  },
  "language_info": {
   "file_extension": ".jl",
   "mimetype": "application/julia",
   "name": "julia",
   "version": "1.10.9"
  }
 },
 "nbformat": 4,
 "nbformat_minor": 5
}
