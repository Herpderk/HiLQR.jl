{
 "cells": [
  {
   "cell_type": "code",
   "execution_count": null,
   "id": "2f185439",
   "metadata": {},
   "outputs": [],
   "source": [
    "\"\"\"\n",
    "Packages\n",
    "\"\"\"\n",
    "\n",
    "using Pkg; Pkg.activate(joinpath(@__DIR__, \"..\"))\n",
    "using LinearAlgebra\n",
    "using HybridRobotDynamics\n",
    "using SiLQR"
   ]
  },
  {
   "cell_type": "code",
   "execution_count": null,
   "id": "498210b2",
   "metadata": {},
   "outputs": [],
   "source": [
    "\"\"\"\n",
    "2D Double Integrator Model\n",
    "\"\"\"\n",
    "\n",
    "# System dimensions\n",
    "nx = 4\n",
    "nu = 2\n",
    "\n",
    "# Dynamics ODE\n",
    "ẋ = (x,u) -> [x[3:4]; u]\n",
    "mI = HybridMode(ẋ)\n",
    "\n",
    "# Transitions and modes\n",
    "transitions = Dict{Symbol, Transition}(Dict())\n",
    "modes = Dict(:nominal => mI)\n",
    "\n",
    "# Define the system\n",
    "system = HybridSystem(nx, nu, transitions, modes)\n",
    "\n",
    "nothing"
   ]
  },
  {
   "cell_type": "code",
   "execution_count": null,
   "id": "365ddf6d",
   "metadata": {},
   "outputs": [],
   "source": [
    "\"\"\"\n",
    "Solver Setup\n",
    "\"\"\"\n",
    "\n",
    "# Bouncing ball with thrust model\n",
    "#system = bouncing_ball()\n",
    "\n",
    "# Stage and terminal costs\n",
    "Q = 1e-4 * diagm([1.0, 1.0, 0.1, 0.1])\n",
    "R = 1e-6 * I(system.nu)\n",
    "Qf = 1e2 * Q\n",
    "stage(x, u) = x'*Q*x + u'*R*u\n",
    "terminal(x) = x'*Qf*x\n",
    "\n",
    "# RK4 integrator\n",
    "rk4 = ExplicitIntegrator(:rk4)\n",
    "\n",
    "# Problem parameters\n",
    "N = 50\n",
    "Δt = 0.1\n",
    "params = ProblemParameters(system, stage, terminal, rk4, N, Δt)\n",
    "\n",
    "# Reference trajectory and initial conditions\n",
    "xref = [10.0; 10.0; 0.0; 0.0]\n",
    "uref = zeros(system.nu)\n",
    "params.xrefs = [xref for k = 1:N]\n",
    "params.urefs = [uref for k = 1:(N-1)]\n",
    "params.x0 = [0.0, 0.0, 0.0, 0.0]\n",
    "params.mI = :nominal\n",
    "\n",
    "nothing"
   ]
  },
  {
   "cell_type": "code",
   "execution_count": null,
   "id": "e1d5d79c",
   "metadata": {},
   "outputs": [],
   "source": [
    "\"\"\"\n",
    "Solve using SiLQR\n",
    "\"\"\"\n",
    "\n",
    "# Solve\n",
    "terms = ProblemTerms(params)\n",
    "SiLQR_solve!(terms, params)\n",
    "\n",
    "# Visualize states\n",
    "xs = reduce(vcat, terms.sol.xs)\n",
    "plot_2d_states(N, system.nx, (1,2), xs)\n",
    "\n",
    "nothing"
   ]
  }
 ],
 "metadata": {
  "kernelspec": {
   "display_name": "Julia 1.10.9",
   "language": "julia",
   "name": "julia-1.10"
  },
  "language_info": {
   "file_extension": ".jl",
   "mimetype": "application/julia",
   "name": "julia",
   "version": "1.10.9"
  }
 },
 "nbformat": 4,
 "nbformat_minor": 5
}
