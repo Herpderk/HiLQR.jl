{
 "cells": [
  {
   "cell_type": "code",
   "execution_count": null,
   "id": "2f185439",
   "metadata": {},
   "outputs": [],
   "source": [
    "using Pkg; Pkg.activate(joinpath(@__DIR__, \"..\"))\n",
    "using LinearAlgebra\n",
    "using HybridRobotDynamics\n",
    "using HiLQR"
   ]
  },
  {
   "cell_type": "code",
   "execution_count": null,
   "id": "365ddf6d",
   "metadata": {},
   "outputs": [],
   "source": [
    "\"\"\"\n",
    "Solver Setup\n",
    "\"\"\"\n",
    "\n",
    "# Bouncing ball with thrust model\n",
    "system = bouncing_ball()\n",
    "\n",
    "# Stage and terminal costs\n",
    "Q = 1e-6 * diagm([1.0, 1.0, 0.0, 0.0])\n",
    "R = 1e-4 * I(system.nu)\n",
    "Qf = 1e6 * Q\n",
    "stage(x, u) = x'*Q*x + u'*R*u\n",
    "terminal(x) = x'*Qf*x\n",
    "\n",
    "# RK4 integrator\n",
    "rk4 = ExplicitIntegrator(:rk4)\n",
    "\n",
    "# Problem parameters\n",
    "N = 50\n",
    "Δt = 0.02\n",
    "params = HiLQR.Parameters(system, stage, terminal, rk4, N, Δt)\n",
    "\n",
    "# Reference trajectory and initial conditions\n",
    "xref = [10.0; 2.0; 0.0; 0.0]\n",
    "uref = zeros(system.nu)\n",
    "params.xrefs = [xref for k = 1:N]\n",
    "params.urefs = [uref for k = 1:(N-1)]\n",
    "params.x0 = [0.0, 2.0, 10.0, -10.0]\n",
    "params.mI = :flight\n",
    "\n",
    "nothing"
   ]
  },
  {
   "cell_type": "code",
   "execution_count": null,
   "id": "e1d5d79c",
   "metadata": {},
   "outputs": [],
   "source": [
    "\"\"\"\n",
    "Solve using HiLQR\n",
    "\"\"\"\n",
    "\n",
    "# Solve\n",
    "sol = HiLQR.Solution(params)\n",
    "cache = HiLQR.Cache(params)\n",
    "@time HiLQR.solve!(sol, cache, params; multishoot=true, αmax=1.0)\n",
    "\n",
    "# Visualize states\n",
    "xs = reduce(vcat, sol.xs)\n",
    "plot_2d_states(N, system.nx, (1,2), xs)\n",
    "\n",
    "nothing"
   ]
  }
 ],
 "metadata": {
  "kernelspec": {
   "display_name": "Julia 1.10.9",
   "language": "julia",
   "name": "julia-1.10"
  },
  "language_info": {
   "file_extension": ".jl",
   "mimetype": "application/julia",
   "name": "julia",
   "version": "1.10.9"
  }
 },
 "nbformat": 4,
 "nbformat_minor": 5
}
