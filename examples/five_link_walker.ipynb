{
 "cells": [
  {
   "cell_type": "code",
   "execution_count": 68,
   "metadata": {},
   "outputs": [
    {
     "name": "stderr",
     "output_type": "stream",
     "text": [
      "\u001b[32m\u001b[1m  Activating\u001b[22m\u001b[39m project at `~/Workspace/16745/project/SiLQR.jl`\n"
     ]
    },
    {
     "ename": "UndefVarError",
     "evalue": "UndefVarError: `five_link_walker` not defined",
     "output_type": "error",
     "traceback": [
      "UndefVarError: `five_link_walker` not defined\n",
      "\n",
      "Stacktrace:\n",
      " [1] getproperty(x::Module, f::Symbol)\n",
      "   @ Base ./Base.jl:31\n",
      " [2] macro expansion\n",
      "   @ show.jl:1181 [inlined]\n",
      " [3] top-level scope\n",
      "   @ ~/Workspace/16745/project/SiLQR.jl/examples/jl_notebook_cell_df34fa98e69747e1a8f8a730347b8e2f_W0sZmlsZQ==.jl:7"
     ]
    }
   ],
   "source": [
    "using Pkg; Pkg.activate(joinpath(@__DIR__, \"..\"))\n",
    "using Revise\n",
    "using LinearAlgebra\n",
    "using HybridRobotDynamics\n",
    "using SiLQR\n",
    "\n",
    "@show HybridRobotDynamics.five_link_walker\n"
   ]
  },
  {
   "cell_type": "code",
   "execution_count": 39,
   "metadata": {},
   "outputs": [
    {
     "ename": "UndefVarError",
     "evalue": "UndefVarError: `five_link_walker` not defined",
     "output_type": "error",
     "traceback": [
      "UndefVarError: `five_link_walker` not defined\n",
      "\n",
      "Stacktrace:\n",
      " [1] getproperty(x::Module, f::Symbol)\n",
      "   @ Base ./Base.jl:31\n",
      " [2] top-level scope\n",
      "   @ ~/Workspace/16745/project/SiLQR.jl/examples/jl_notebook_cell_df34fa98e69747e1a8f8a730347b8e2f_W1sZmlsZQ==.jl:10"
     ]
    }
   ],
   "source": [
    "\"\"\"\n",
    "Solver Setup\n",
    "\"\"\"\n",
    "\n",
    "# Define RABBIT (Five-Link Walker) model parameters\n",
    "g = 9.81  # gravity\n",
    "ls = [0.5, 0.5, 0.5, 0.5, 0.5] # Link lengths (meters)\n",
    "ms = [5.0, 5.0, 5.0, 5.0, 5.0] # Link masses (kg) \n",
    "Is = [0.1, 0.1, 0.1, 0.1, 0.1] # Link inertias (kg*m^2)\n",
    "system = HybridRobotDynamics.five_link_walker(Is, ls, ms, g)\n",
    "\n",
    "# Cost Matrices\n",
    "Q = Diagonal(fill(10.0, 10))      # State cost\n",
    "Qf = Diagonal(fill(100.0, 10))    # Final state cost\n",
    "R = Diagonal(fill(1.0, 2))        # Input cost\n",
    "stage(x, u) = x'*Q*x + u'*R*u\n",
    "terminal(x) = x'*Qf*x\n",
    "\n",
    "# RK4 integrator\n",
    "rk4 = ExplicitIntegrator(:rk4)\n",
    "\n",
    "# Problem parameters\n",
    "N = 40\n",
    "Δt = 0.05\n",
    "params = SiLQR.Parameters(system, stage, terminal, rk4, N, Δt)\n",
    "\n",
    "# Reference trajectory (walk in place)\n",
    "xref = zeros(system.nx)\n",
    "uref = zeros(system.nu)\n",
    "params.xrefs = [xref for k = 1:N]\n",
    "params.urefs = [1e-2 * randn(system.nu) for k = 1:N-1] # start with some noise\n",
    "\n",
    "# Initial state (small perturbation)\n",
    "q0 = [0.1, -0.2, 0.2, -0.1, 0.0]  # angles\n",
    "v0 = zeros(5)                    # velocities\n",
    "params.x0 = vcat(q0, v0)\n",
    "\n",
    "# Set initial mode\n",
    "params.mI = :stance\n",
    "\n",
    "nothing"
   ]
  },
  {
   "cell_type": "code",
   "execution_count": null,
   "metadata": {},
   "outputs": [],
   "source": [
    "\"\"\"\n",
    "Solve using SiLQR\n",
    "\"\"\"\n",
    "\n",
    "# Solve\n",
    "sol = SiLQR.Solution(params)\n",
    "cache = SiLQR.Cache(params)\n",
    "@time SiLQR.solve!(sol, cache, params)\n",
    "\n",
    "# Visualize states\n",
    "xs = reduce(vcat, sol.xs)\n",
    "plot_2d_states(N, system.nx, (1, 3), xs; xlim=(-0.5, 0.5), ylim=(-0.5, 0.5))\n",
    "\n",
    "nothing"
   ]
  }
 ],
 "metadata": {
  "kernelspec": {
   "display_name": "Julia 1.10.9",
   "language": "julia",
   "name": "julia-1.10"
  },
  "language_info": {
   "file_extension": ".jl",
   "mimetype": "application/julia",
   "name": "julia",
   "version": "1.10.9"
  }
 },
 "nbformat": 4,
 "nbformat_minor": 2
}
